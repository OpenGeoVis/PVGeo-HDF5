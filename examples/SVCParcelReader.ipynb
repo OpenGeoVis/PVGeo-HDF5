{
 "cells": [
  {
   "cell_type": "code",
   "execution_count": null,
   "metadata": {},
   "outputs": [],
   "source": [
    "import sys\n",
    "sys.path.append('../')\n",
    "import pvgeohdf\n",
    "import vtki\n",
    "import pandas as pd\n",
    "import numpy as np"
   ]
  },
  {
   "cell_type": "code",
   "execution_count": null,
   "metadata": {},
   "outputs": [],
   "source": [
    "filename = '/Users/bane/Documents/OpenGeoVis/Data/data-testing/PVGeo-HDF5/particles/24May2011-svc-5500s-small.nc'\n"
   ]
  },
  {
   "cell_type": "code",
   "execution_count": null,
   "metadata": {},
   "outputs": [],
   "source": [
    "# Read a file using pvgeohdf\n",
    "reader = pvgeohdf.SVCParcelReader()\n",
    "reader.AddFileName(filename)\n",
    "reader.Update()\n",
    "tsteps = reader.get_time_step_values()"
   ]
  },
  {
   "cell_type": "code",
   "execution_count": null,
   "metadata": {},
   "outputs": [],
   "source": [
    "len(tsteps)"
   ]
  },
  {
   "cell_type": "code",
   "execution_count": null,
   "metadata": {},
   "outputs": [],
   "source": [
    "reader.UpdateTimeStep(tsteps[0])\n",
    "data = reader.get_output()"
   ]
  },
  {
   "cell_type": "code",
   "execution_count": null,
   "metadata": {},
   "outputs": [],
   "source": [
    "data"
   ]
  },
  {
   "cell_type": "code",
   "execution_count": null,
   "metadata": {},
   "outputs": [],
   "source": [
    "data.plot(scalars='pcl_w')"
   ]
  },
  {
   "cell_type": "markdown",
   "metadata": {},
   "source": [
    "# Time series plotting"
   ]
  },
  {
   "cell_type": "code",
   "execution_count": null,
   "metadata": {},
   "outputs": [],
   "source": [
    "scalars = 'pcl_w'\n",
    "\n",
    "\n",
    "reader.UpdateTimeStep(tsteps[0])\n",
    "data = reader.get_output()\n",
    "\n",
    "# Create a plotter object and set the scalars to the Z height\n",
    "plotter = vtki.Plotter(off_screen=True)\n",
    "\n",
    "plotter.add_mesh(data, scalars=scalars, name='my_mesh')\n",
    "\n",
    "plotter.view_isometric()\n",
    "plotter.camera_set = True\n",
    "plotter.show_grid()\n",
    "\n",
    "plotter.show(auto_close=False)\n",
    "\n",
    "# Open a gif\n",
    "plotter.open_gif('frames.gif')\n",
    "\n",
    "# Update Z and write a frame for each updated position\n",
    "nframe = 15\n",
    "for tstep in tsteps:\n",
    "    print('rendering {}'.format(tstep), end='\\r')\n",
    "    reader.UpdateTimeStep(tstep)\n",
    "    data = reader.get_output()\n",
    "    plotter.add_mesh(data, scalars=scalars, name='my_mesh', reset_camera=False)\n",
    "    plotter.write_frame()\n",
    "print('Done.')\n",
    "# Close movie and delete object\n",
    "plotter.close()"
   ]
  },
  {
   "cell_type": "code",
   "execution_count": null,
   "metadata": {},
   "outputs": [],
   "source": []
  }
 ],
 "metadata": {
  "kernelspec": {
   "display_name": "Python [conda env:dev]",
   "language": "python",
   "name": "dev"
  },
  "language_info": {
   "codemirror_mode": {
    "name": "ipython",
    "version": 3
   },
   "file_extension": ".py",
   "mimetype": "text/x-python",
   "name": "python",
   "nbconvert_exporter": "python",
   "pygments_lexer": "ipython3",
   "version": "3.7.2"
  }
 },
 "nbformat": 4,
 "nbformat_minor": 2
}
